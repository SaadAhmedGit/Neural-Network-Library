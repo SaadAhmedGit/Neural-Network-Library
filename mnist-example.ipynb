{
 "cells": [
  {
   "cell_type": "code",
   "execution_count": 1,
   "metadata": {},
   "outputs": [],
   "source": [
    "from Model import Model\n",
    "from Flatten_Layer import Flatten\n",
    "from Dense_Layer import Dense\n",
    "from utils import to_categorical\n",
    "\n",
    "# Import the MNIST hand-written digit classification dataset\n",
    "from keras.datasets import mnist\n"
   ]
  },
  {
   "cell_type": "code",
   "execution_count": 2,
   "metadata": {},
   "outputs": [],
   "source": [
    "# Load dataset\n",
    "(X_train, Y_train), (X_test, Y_test) = mnist.load_data()\n"
   ]
  },
  {
   "cell_type": "code",
   "execution_count": 3,
   "metadata": {},
   "outputs": [],
   "source": [
    "# Normalize the input values\n",
    "X_train, X_test = X_train / 255.0, X_test / 255.0\n"
   ]
  },
  {
   "cell_type": "code",
   "execution_count": 4,
   "metadata": {},
   "outputs": [],
   "source": [
    "# One-hot encode the output labels\n",
    "Y_train = to_categorical(Y_train, 10)\n",
    "Y_test = to_categorical(Y_test, 10)\n"
   ]
  },
  {
   "cell_type": "code",
   "execution_count": 5,
   "metadata": {},
   "outputs": [],
   "source": [
    "# Set the Network architecture and hyper-parameters\n",
    "model = Model()\n",
    "model.compile(loss=\"mse\", lr=6)\n",
    "model.Sequential(\n",
    "    layers=[\n",
    "        Flatten(input_shape=(28, 28)),\n",
    "        Dense(28 * 28, 16, activation=\"sigmoid\"),\n",
    "        Dense(16, 16, activation=\"sigmoid\"),\n",
    "        Dense(16, 10, activation=\"sigmoid\"),\n",
    "    ]\n",
    ")\n"
   ]
  },
  {
   "cell_type": "code",
   "execution_count": 6,
   "metadata": {},
   "outputs": [
    {
     "name": "stdout",
     "output_type": "stream",
     "text": [
      "1/50 - loss: 0.012033124918612711\n",
      "2/50 - loss: 0.008073559985666091\n",
      "3/50 - loss: 0.007464297771011763\n",
      "4/50 - loss: 0.006913883600667906\n",
      "5/50 - loss: 0.006447693192896635\n",
      "6/50 - loss: 0.00633936080380631\n",
      "7/50 - loss: 0.006087762093795809\n",
      "8/50 - loss: 0.006169608342472865\n",
      "9/50 - loss: 0.0058003465643672\n",
      "10/50 - loss: 0.005692626886534252\n",
      "11/50 - loss: 0.005653744599350131\n",
      "12/50 - loss: 0.00565142822380474\n",
      "13/50 - loss: 0.005538174395667141\n",
      "14/50 - loss: 0.005525039424461532\n",
      "15/50 - loss: 0.005508697913499298\n",
      "16/50 - loss: 0.0053621697311692085\n",
      "17/50 - loss: 0.0052170676075873135\n",
      "18/50 - loss: 0.005149607283723602\n",
      "19/50 - loss: 0.005043253434254053\n",
      "20/50 - loss: 0.005170300753177832\n",
      "21/50 - loss: 0.004999142503663095\n",
      "22/50 - loss: 0.0049967811686813845\n",
      "23/50 - loss: 0.0050496938376506\n",
      "24/50 - loss: 0.004853578134436277\n",
      "25/50 - loss: 0.004776024793056721\n",
      "26/50 - loss: 0.004765040442052755\n",
      "27/50 - loss: 0.004883332630339969\n",
      "28/50 - loss: 0.00485139549890727\n",
      "29/50 - loss: 0.004815885784306524\n",
      "30/50 - loss: 0.004739287150873353\n",
      "31/50 - loss: 0.0046998393247606445\n",
      "32/50 - loss: 0.004707908145467434\n",
      "33/50 - loss: 0.00473450073627916\n",
      "34/50 - loss: 0.004556470692122756\n",
      "35/50 - loss: 0.004757588800084299\n",
      "36/50 - loss: 0.0046414842827596945\n",
      "37/50 - loss: 0.004411407685343454\n",
      "38/50 - loss: 0.004656082268824716\n",
      "39/50 - loss: 0.004801283940816924\n",
      "40/50 - loss: 0.004537049996000887\n",
      "41/50 - loss: 0.004897850830601371\n",
      "42/50 - loss: 0.0046775738039082065\n",
      "43/50 - loss: 0.004708665136538038\n",
      "44/50 - loss: 0.004618534285979203\n",
      "45/50 - loss: 0.004764101129045126\n",
      "46/50 - loss: 0.004702968075206117\n",
      "47/50 - loss: 0.004698977012184026\n",
      "48/50 - loss: 0.004515668619677188\n",
      "49/50 - loss: 0.00432310688668007\n",
      "50/50 - loss: 0.004414728652822396\n"
     ]
    },
    {
     "data": {
      "image/png": "[encoded data removed]",
      "text/plain": [
       "<Figure size 432x288 with 1 Axes>"
      ]
     },
     "metadata": {
      "needs_background": "light"
     },
     "output_type": "display_data"
    }
   ],
   "source": [
    "# Train the model\n",
    "model.Train(X_train, Y_train, epochs=50, verbose=True)\n"
   ]
  },
  {
   "cell_type": "code",
   "execution_count": 7,
   "metadata": {},
   "outputs": [
    {
     "name": "stdout",
     "output_type": "stream",
     "text": [
      "Model accuracy: 91.81\n"
     ]
    }
   ],
   "source": [
    "# Evaluate the model and display the percent of correct classifications on training set\n",
    "model.evaluate(X_test, Y_test)\n"
   ]
  }
 ],
 "metadata": {
  "kernelspec": {
   "display_name": "Python 3.10.6 64-bit",
   "language": "python",
   "name": "python3"
  },
  "language_info": {
   "codemirror_mode": {
    "name": "ipython",
    "version": 3
   },
   "file_extension": ".py",
   "mimetype": "text/x-python",
   "name": "python",
   "nbconvert_exporter": "python",
   "pygments_lexer": "ipython3",
   "version": "3.10.6"
  },
  "orig_nbformat": 4,
  "vscode": {
   "interpreter": {
    "hash": "115271f50e5f361928b022edd49380463e4ac48b8715de0f3b4ea2807284ddca"
   }
  }
 },
 "nbformat": 4,
 "nbformat_minor": 2
}
