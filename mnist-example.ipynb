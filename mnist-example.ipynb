{
 "cells": [
  {
   "cell_type": "code",
   "execution_count": 1,
   "metadata": {},
   "outputs": [],
   "source": [
    "from Model import Model\n",
    "from Flatten_Layer import Flatten\n",
    "from Dense_Layer import Dense\n",
    "from utils import to_categorical\n",
    "\n",
    "# Import the MNIST hand-written digit classification dataset\n",
    "from keras.datasets import mnist\n"
   ]
  },
  {
   "cell_type": "code",
   "execution_count": 2,
   "metadata": {},
   "outputs": [],
   "source": [
    "# Load dataset\n",
    "(X_train, Y_train), (X_test, Y_test) = mnist.load_data()\n"
   ]
  },
  {
   "cell_type": "code",
   "execution_count": 3,
   "metadata": {},
   "outputs": [],
   "source": [
    "# Normalize the input values\n",
    "X_train, X_test = X_train / 255.0, X_test / 255.0\n"
   ]
  },
  {
   "cell_type": "code",
   "execution_count": 4,
   "metadata": {},
   "outputs": [],
   "source": [
    "# One-hot encode the output labels\n",
    "Y_train = to_categorical(Y_train, 10)\n",
    "Y_test = to_categorical(Y_test, 10)\n"
   ]
  },
  {
   "cell_type": "code",
   "execution_count": 8,
   "metadata": {},
   "outputs": [],
   "source": [
    "# Set the Network architecture and hyper-parameters\n",
    "model = Model()\n",
    "model.compile(loss=\"mse\", lr=6)\n",
    "model.Sequential(\n",
    "    layers=[\n",
    "        Flatten(input_shape=(28, 28)),\n",
    "        Dense(28 * 28, 16, activation=\"sigmoid\"),\n",
    "        Dense(16, 16, activation=\"sigmoid\"),\n",
    "        Dense(16, 10, activation=\"sigmoid\"),\n",
    "    ]\n",
    ")\n"
   ]
  },
  {
   "cell_type": "code",
   "execution_count": 9,
   "metadata": {},
   "outputs": [
    {
     "name": "stdout",
     "output_type": "stream",
     "text": [
      "1/5 - loss: 0.012776229643127237\n",
      "2/5 - loss: 0.008600028622899476\n",
      "3/5 - loss: 0.007548462428090809\n",
      "4/5 - loss: 0.007179847967686719\n",
      "5/5 - loss: 0.006753687683561192\n"
     ]
    },
    {
     "data": {
      "image/png": "[encoded data removed]",
      "text/plain": [
       "<Figure size 432x288 with 1 Axes>"
      ]
     },
     "metadata": {
      "needs_background": "light"
     },
     "output_type": "display_data"
    }
   ],
   "source": [
    "# Train the model\n",
    "model.Train(X_train, Y_train, epochs=5, verbose=True)\n"
   ]
  },
  {
   "cell_type": "code",
   "execution_count": 10,
   "metadata": {},
   "outputs": [
    {
     "name": "stdout",
     "output_type": "stream",
     "text": [
      "Model accuracy: 90.01\n"
     ]
    }
   ],
   "source": [
    "# Evaluate the model and display the percent of correct classifications on training set\n",
    "model.evaluate(X_test, Y_test)\n"
   ]
  }
 ],
 "metadata": {
  "kernelspec": {
   "display_name": "Python 3.10.6 64-bit",
   "language": "python",
   "name": "python3"
  },
  "language_info": {
   "codemirror_mode": {
    "name": "ipython",
    "version": 3
   },
   "file_extension": ".py",
   "mimetype": "text/x-python",
   "name": "python",
   "nbconvert_exporter": "python",
   "pygments_lexer": "ipython3",
   "version": "3.10.6"
  },
  "orig_nbformat": 4,
  "vscode": {
   "interpreter": {
    "hash": "115271f50e5f361928b022edd49380463e4ac48b8715de0f3b4ea2807284ddca"
   }
  }
 },
 "nbformat": 4,
 "nbformat_minor": 2
}
