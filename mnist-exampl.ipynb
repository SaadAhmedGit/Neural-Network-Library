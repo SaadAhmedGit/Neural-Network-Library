{
 "cells": [
  {
   "cell_type": "code",
   "execution_count": 1,
   "metadata": {},
   "outputs": [],
   "source": [
    "from keras.datasets import mnist\n",
    "from Model import Model\n",
    "import numpy as np\n",
    "from Flatten_Layer import Flatten\n",
    "from Dense_Layer import Dense\n"
   ]
  },
  {
   "cell_type": "code",
   "execution_count": 2,
   "metadata": {},
   "outputs": [],
   "source": [
    "# Loading the dataset\n",
    "(X_train, Y_train), (X_test, Y_test) = mnist.load_data()\n"
   ]
  },
  {
   "cell_type": "code",
   "execution_count": 3,
   "metadata": {},
   "outputs": [],
   "source": [
    "# Scaling the values\n",
    "X_train, X_test = X_train / 255.0, X_test / 255.0\n"
   ]
  },
  {
   "cell_type": "code",
   "execution_count": 4,
   "metadata": {},
   "outputs": [],
   "source": [
    "def to_categorical(Y, num_classes):\n",
    "    return np.eye(num_classes)[Y.astype(int)]\n",
    "\n",
    "\n",
    "Y_train = to_categorical(Y_train, 10)\n",
    "Y_test = to_categorical(Y_test, 10)"
   ]
  },
  {
   "cell_type": "code",
   "execution_count": 5,
   "metadata": {},
   "outputs": [],
   "source": [
    "myModel = Model()\n",
    "myModel.compile(loss=\"mse\", lr=0.01)\n"
   ]
  },
  {
   "cell_type": "code",
   "execution_count": 6,
   "metadata": {},
   "outputs": [],
   "source": [
    "myModel.Sequential(\n",
    "    layers=[\n",
    "        Flatten(input_shape=(28, 28)),\n",
    "        Dense(28 * 28, 128, activation=\"sigmoid\"),\n",
    "        Dense(128, 10, activation=\"sigmoid\"),\n",
    "    ]\n",
    ")\n"
   ]
  },
  {
   "cell_type": "code",
   "execution_count": 7,
   "metadata": {},
   "outputs": [
    {
     "ename": "ValueError",
     "evalue": "non-broadcastable output operand with shape (10,) doesn't match the broadcast shape (10,10)",
     "output_type": "error",
     "traceback": [
      "\u001b[1;31m---------------------------------------------------------------------------\u001b[0m",
      "\u001b[1;31mValueError\u001b[0m                                Traceback (most recent call last)",
      "\u001b[1;32md:\\Code\\VSCode_Workspaces\\Python\\Neural-Network\\mnist-exampl.ipynb Cell 7\u001b[0m in \u001b[0;36m<cell line: 1>\u001b[1;34m()\u001b[0m\n\u001b[1;32m----> <a href='vscode-notebook-cell:/d%3A/Code/VSCode_Workspaces/Python/Neural-Network/mnist-exampl.ipynb#W5sZmlsZQ%3D%3D?line=0'>1</a>\u001b[0m myModel\u001b[39m.\u001b[39;49mTrain(X_train, Y_train, epochs\u001b[39m=\u001b[39;49m\u001b[39m5\u001b[39;49m, batch_size\u001b[39m=\u001b[39;49m\u001b[39m32\u001b[39;49m, verbose\u001b[39m=\u001b[39;49m\u001b[39mTrue\u001b[39;49;00m)\n",
      "File \u001b[1;32md:\\Code\\VSCode_Workspaces\\Python\\Neural-Network\\Model.py:72\u001b[0m, in \u001b[0;36mModel.Train\u001b[1;34m(self, X_train, Y_train, **kwargs)\u001b[0m\n\u001b[0;32m     70\u001b[0m     y \u001b[39m=\u001b[39m np\u001b[39m.\u001b[39mreshape(y, (y\u001b[39m.\u001b[39mshape[\u001b[39m0\u001b[39m], \u001b[39m1\u001b[39m))\n\u001b[0;32m     71\u001b[0m     loss \u001b[39m+\u001b[39m\u001b[39m=\u001b[39m np\u001b[39m.\u001b[39msum(\u001b[39mself\u001b[39m\u001b[39m.\u001b[39mloss_function(output, y), axis\u001b[39m=\u001b[39m\u001b[39m0\u001b[39m)\n\u001b[1;32m---> 72\u001b[0m     gradient \u001b[39m+\u001b[39m\u001b[39m=\u001b[39m \u001b[39mself\u001b[39m\u001b[39m.\u001b[39mloss_function(output, y, \u001b[39mTrue\u001b[39;00m)\n\u001b[0;32m     74\u001b[0m gradient \u001b[39m/\u001b[39m\u001b[39m=\u001b[39m batch_size\n\u001b[0;32m     75\u001b[0m \u001b[39mfor\u001b[39;00m layer \u001b[39min\u001b[39;00m \u001b[39mself\u001b[39m\u001b[39m.\u001b[39mnetwork_layers:\n",
      "\u001b[1;31mValueError\u001b[0m: non-broadcastable output operand with shape (10,) doesn't match the broadcast shape (10,10)"
     ]
    }
   ],
   "source": [
    "myModel.Train(X_train, Y_train, epochs=5, batch_size=32, verbose=True)\n"
   ]
  },
  {
   "cell_type": "code",
   "execution_count": null,
   "metadata": {},
   "outputs": [],
   "source": [
    "myModel.evaluate(X_test, Y_test)\n"
   ]
  },
  {
   "cell_type": "code",
   "execution_count": null,
   "metadata": {},
   "outputs": [],
   "source": []
  }
 ],
 "metadata": {
  "kernelspec": {
   "display_name": "Python 3.10.6 64-bit",
   "language": "python",
   "name": "python3"
  },
  "language_info": {
   "codemirror_mode": {
    "name": "ipython",
    "version": 3
   },
   "file_extension": ".py",
   "mimetype": "text/x-python",
   "name": "python",
   "nbconvert_exporter": "python",
   "pygments_lexer": "ipython3",
   "version": "3.10.6"
  },
  "orig_nbformat": 4,
  "vscode": {
   "interpreter": {
    "hash": "115271f50e5f361928b022edd49380463e4ac48b8715de0f3b4ea2807284ddca"
   }
  }
 },
 "nbformat": 4,
 "nbformat_minor": 2
}
